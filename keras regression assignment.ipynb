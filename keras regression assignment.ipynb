{
    "cells": [
        {
            "cell_type": "markdown",
            "metadata": {
                "collapsed": true
            },
            "source": "#  1. Download Dataset"
        },
        {
            "cell_type": "code",
            "execution_count": 40,
            "metadata": {},
            "outputs": [],
            "source": "import pandas as pd\nimport numpy as np"
        },
        {
            "cell_type": "code",
            "execution_count": 2,
            "metadata": {},
            "outputs": [
                {
                    "data": {
                        "text/html": "<div>\n<style scoped>\n    .dataframe tbody tr th:only-of-type {\n        vertical-align: middle;\n    }\n\n    .dataframe tbody tr th {\n        vertical-align: top;\n    }\n\n    .dataframe thead th {\n        text-align: right;\n    }\n</style>\n<table border=\"1\" class=\"dataframe\">\n  <thead>\n    <tr style=\"text-align: right;\">\n      <th></th>\n      <th>Cement</th>\n      <th>Blast Furnace Slag</th>\n      <th>Fly Ash</th>\n      <th>Water</th>\n      <th>Superplasticizer</th>\n      <th>Coarse Aggregate</th>\n      <th>Fine Aggregate</th>\n      <th>Age</th>\n      <th>Strength</th>\n    </tr>\n  </thead>\n  <tbody>\n    <tr>\n      <th>0</th>\n      <td>540.0</td>\n      <td>0.0</td>\n      <td>0.0</td>\n      <td>162.0</td>\n      <td>2.5</td>\n      <td>1040.0</td>\n      <td>676.0</td>\n      <td>28</td>\n      <td>79.99</td>\n    </tr>\n    <tr>\n      <th>1</th>\n      <td>540.0</td>\n      <td>0.0</td>\n      <td>0.0</td>\n      <td>162.0</td>\n      <td>2.5</td>\n      <td>1055.0</td>\n      <td>676.0</td>\n      <td>28</td>\n      <td>61.89</td>\n    </tr>\n    <tr>\n      <th>2</th>\n      <td>332.5</td>\n      <td>142.5</td>\n      <td>0.0</td>\n      <td>228.0</td>\n      <td>0.0</td>\n      <td>932.0</td>\n      <td>594.0</td>\n      <td>270</td>\n      <td>40.27</td>\n    </tr>\n    <tr>\n      <th>3</th>\n      <td>332.5</td>\n      <td>142.5</td>\n      <td>0.0</td>\n      <td>228.0</td>\n      <td>0.0</td>\n      <td>932.0</td>\n      <td>594.0</td>\n      <td>365</td>\n      <td>41.05</td>\n    </tr>\n    <tr>\n      <th>4</th>\n      <td>198.6</td>\n      <td>132.4</td>\n      <td>0.0</td>\n      <td>192.0</td>\n      <td>0.0</td>\n      <td>978.4</td>\n      <td>825.5</td>\n      <td>360</td>\n      <td>44.30</td>\n    </tr>\n  </tbody>\n</table>\n</div>",
                        "text/plain": "   Cement  Blast Furnace Slag  Fly Ash  Water  Superplasticizer  \\\n0   540.0                 0.0      0.0  162.0               2.5   \n1   540.0                 0.0      0.0  162.0               2.5   \n2   332.5               142.5      0.0  228.0               0.0   \n3   332.5               142.5      0.0  228.0               0.0   \n4   198.6               132.4      0.0  192.0               0.0   \n\n   Coarse Aggregate  Fine Aggregate  Age  Strength  \n0            1040.0           676.0   28     79.99  \n1            1055.0           676.0   28     61.89  \n2             932.0           594.0  270     40.27  \n3             932.0           594.0  365     41.05  \n4             978.4           825.5  360     44.30  "
                    },
                    "execution_count": 2,
                    "metadata": {},
                    "output_type": "execute_result"
                }
            ],
            "source": "concrete_data = pd.read_csv('https://cocl.us/concrete_data')\nconcrete_data.head()"
        },
        {
            "cell_type": "markdown",
            "metadata": {},
            "source": "### data is clean, target is strength"
        },
        {
            "cell_type": "code",
            "execution_count": 3,
            "metadata": {},
            "outputs": [
                {
                    "data": {
                        "text/html": "<div>\n<style scoped>\n    .dataframe tbody tr th:only-of-type {\n        vertical-align: middle;\n    }\n\n    .dataframe tbody tr th {\n        vertical-align: top;\n    }\n\n    .dataframe thead th {\n        text-align: right;\n    }\n</style>\n<table border=\"1\" class=\"dataframe\">\n  <thead>\n    <tr style=\"text-align: right;\">\n      <th></th>\n      <th>Cement</th>\n      <th>Blast Furnace Slag</th>\n      <th>Fly Ash</th>\n      <th>Water</th>\n      <th>Superplasticizer</th>\n      <th>Coarse Aggregate</th>\n      <th>Fine Aggregate</th>\n      <th>Age</th>\n    </tr>\n  </thead>\n  <tbody>\n    <tr>\n      <th>0</th>\n      <td>540.0</td>\n      <td>0.0</td>\n      <td>0.0</td>\n      <td>162.0</td>\n      <td>2.5</td>\n      <td>1040.0</td>\n      <td>676.0</td>\n      <td>28</td>\n    </tr>\n    <tr>\n      <th>1</th>\n      <td>540.0</td>\n      <td>0.0</td>\n      <td>0.0</td>\n      <td>162.0</td>\n      <td>2.5</td>\n      <td>1055.0</td>\n      <td>676.0</td>\n      <td>28</td>\n    </tr>\n    <tr>\n      <th>2</th>\n      <td>332.5</td>\n      <td>142.5</td>\n      <td>0.0</td>\n      <td>228.0</td>\n      <td>0.0</td>\n      <td>932.0</td>\n      <td>594.0</td>\n      <td>270</td>\n    </tr>\n    <tr>\n      <th>3</th>\n      <td>332.5</td>\n      <td>142.5</td>\n      <td>0.0</td>\n      <td>228.0</td>\n      <td>0.0</td>\n      <td>932.0</td>\n      <td>594.0</td>\n      <td>365</td>\n    </tr>\n    <tr>\n      <th>4</th>\n      <td>198.6</td>\n      <td>132.4</td>\n      <td>0.0</td>\n      <td>192.0</td>\n      <td>0.0</td>\n      <td>978.4</td>\n      <td>825.5</td>\n      <td>360</td>\n    </tr>\n  </tbody>\n</table>\n</div>",
                        "text/plain": "   Cement  Blast Furnace Slag  Fly Ash  Water  Superplasticizer  \\\n0   540.0                 0.0      0.0  162.0               2.5   \n1   540.0                 0.0      0.0  162.0               2.5   \n2   332.5               142.5      0.0  228.0               0.0   \n3   332.5               142.5      0.0  228.0               0.0   \n4   198.6               132.4      0.0  192.0               0.0   \n\n   Coarse Aggregate  Fine Aggregate  Age  \n0            1040.0           676.0   28  \n1            1055.0           676.0   28  \n2             932.0           594.0  270  \n3             932.0           594.0  365  \n4             978.4           825.5  360  "
                    },
                    "execution_count": 3,
                    "metadata": {},
                    "output_type": "execute_result"
                }
            ],
            "source": "concrete_data_columns = concrete_data.columns\n\npredictors = concrete_data[concrete_data_columns[concrete_data_columns != 'Strength']] # all columns except Strength\ntarget = concrete_data['Strength'] # Strength column\npredictors.head()"
        },
        {
            "cell_type": "code",
            "execution_count": 4,
            "metadata": {},
            "outputs": [
                {
                    "data": {
                        "text/plain": "0    79.99\n1    61.89\n2    40.27\n3    41.05\n4    44.30\nName: Strength, dtype: float64"
                    },
                    "execution_count": 4,
                    "metadata": {},
                    "output_type": "execute_result"
                }
            ],
            "source": "target.head()"
        },
        {
            "cell_type": "code",
            "execution_count": 5,
            "metadata": {},
            "outputs": [],
            "source": "n_cols = predictors.shape[1]"
        },
        {
            "cell_type": "markdown",
            "metadata": {},
            "source": "###  Normalized data is below"
        },
        {
            "cell_type": "code",
            "execution_count": 6,
            "metadata": {},
            "outputs": [
                {
                    "data": {
                        "text/html": "<div>\n<style scoped>\n    .dataframe tbody tr th:only-of-type {\n        vertical-align: middle;\n    }\n\n    .dataframe tbody tr th {\n        vertical-align: top;\n    }\n\n    .dataframe thead th {\n        text-align: right;\n    }\n</style>\n<table border=\"1\" class=\"dataframe\">\n  <thead>\n    <tr style=\"text-align: right;\">\n      <th></th>\n      <th>Cement</th>\n      <th>Blast Furnace Slag</th>\n      <th>Fly Ash</th>\n      <th>Water</th>\n      <th>Superplasticizer</th>\n      <th>Coarse Aggregate</th>\n      <th>Fine Aggregate</th>\n      <th>Age</th>\n    </tr>\n  </thead>\n  <tbody>\n    <tr>\n      <th>0</th>\n      <td>2.476712</td>\n      <td>-0.856472</td>\n      <td>-0.846733</td>\n      <td>-0.916319</td>\n      <td>-0.620147</td>\n      <td>0.862735</td>\n      <td>-1.217079</td>\n      <td>-0.279597</td>\n    </tr>\n    <tr>\n      <th>1</th>\n      <td>2.476712</td>\n      <td>-0.856472</td>\n      <td>-0.846733</td>\n      <td>-0.916319</td>\n      <td>-0.620147</td>\n      <td>1.055651</td>\n      <td>-1.217079</td>\n      <td>-0.279597</td>\n    </tr>\n    <tr>\n      <th>2</th>\n      <td>0.491187</td>\n      <td>0.795140</td>\n      <td>-0.846733</td>\n      <td>2.174405</td>\n      <td>-1.038638</td>\n      <td>-0.526262</td>\n      <td>-2.239829</td>\n      <td>3.551340</td>\n    </tr>\n    <tr>\n      <th>3</th>\n      <td>0.491187</td>\n      <td>0.795140</td>\n      <td>-0.846733</td>\n      <td>2.174405</td>\n      <td>-1.038638</td>\n      <td>-0.526262</td>\n      <td>-2.239829</td>\n      <td>5.055221</td>\n    </tr>\n    <tr>\n      <th>4</th>\n      <td>-0.790075</td>\n      <td>0.678079</td>\n      <td>-0.846733</td>\n      <td>0.488555</td>\n      <td>-1.038638</td>\n      <td>0.070492</td>\n      <td>0.647569</td>\n      <td>4.976069</td>\n    </tr>\n  </tbody>\n</table>\n</div>",
                        "text/plain": "     Cement  Blast Furnace Slag   Fly Ash     Water  Superplasticizer  \\\n0  2.476712           -0.856472 -0.846733 -0.916319         -0.620147   \n1  2.476712           -0.856472 -0.846733 -0.916319         -0.620147   \n2  0.491187            0.795140 -0.846733  2.174405         -1.038638   \n3  0.491187            0.795140 -0.846733  2.174405         -1.038638   \n4 -0.790075            0.678079 -0.846733  0.488555         -1.038638   \n\n   Coarse Aggregate  Fine Aggregate       Age  \n0          0.862735       -1.217079 -0.279597  \n1          1.055651       -1.217079 -0.279597  \n2         -0.526262       -2.239829  3.551340  \n3         -0.526262       -2.239829  5.055221  \n4          0.070492        0.647569  4.976069  "
                    },
                    "execution_count": 6,
                    "metadata": {},
                    "output_type": "execute_result"
                }
            ],
            "source": "predictors_norm = (predictors - predictors.mean()) / predictors.std()\npredictors_norm.head()"
        },
        {
            "cell_type": "code",
            "execution_count": 7,
            "metadata": {},
            "outputs": [],
            "source": "n_cols_norm = predictors_norm.shape[1]"
        },
        {
            "cell_type": "markdown",
            "metadata": {},
            "source": "### A. Make network"
        },
        {
            "cell_type": "code",
            "execution_count": 8,
            "metadata": {},
            "outputs": [
                {
                    "name": "stderr",
                    "output_type": "stream",
                    "text": "Using TensorFlow backend.\n"
                }
            ],
            "source": "import keras\nfrom keras.models import Sequential\nfrom keras.layers import Dense"
        },
        {
            "cell_type": "code",
            "execution_count": 9,
            "metadata": {},
            "outputs": [],
            "source": "# define regression model\ndef regression_model():\n    # create model\n    model = Sequential()\n    model.add(Dense(10, activation='relu', input_shape=(n_cols,)))\n    model.add(Dense(1))\n    \n    # compile model\n    model.compile(optimizer='adam', loss='mean_squared_error')\n    return model"
        },
        {
            "cell_type": "code",
            "execution_count": 10,
            "metadata": {},
            "outputs": [
                {
                    "name": "stdout",
                    "output_type": "stream",
                    "text": "WARNING:tensorflow:From /opt/conda/envs/Python36/lib/python3.6/site-packages/tensorflow/python/framework/op_def_library.py:263: colocate_with (from tensorflow.python.framework.ops) is deprecated and will be removed in a future version.\nInstructions for updating:\nColocations handled automatically by placer.\n"
                }
            ],
            "source": "# build the model\nmodelR = regression_model()"
        },
        {
            "cell_type": "code",
            "execution_count": 17,
            "metadata": {},
            "outputs": [
                {
                    "name": "stdout",
                    "output_type": "stream",
                    "text": "Train on 721 samples, validate on 309 samples\nEpoch 1/50\n - 0s - loss: 8908858.9015 - val_loss: 3970153.9895\nEpoch 2/50\n - 0s - loss: 2335602.6991 - val_loss: 1008958.8380\nEpoch 3/50\n - 0s - loss: 632883.0952 - val_loss: 284055.0090\nEpoch 4/50\n - 0s - loss: 255247.3945 - val_loss: 145949.3133\nEpoch 5/50\n - 0s - loss: 189709.3084 - val_loss: 125629.1930\nEpoch 6/50\n - 0s - loss: 178161.0569 - val_loss: 120459.2879\nEpoch 7/50\n - 0s - loss: 172016.0800 - val_loss: 117476.7386\nEpoch 8/50\n - 0s - loss: 166275.9613 - val_loss: 115012.0314\nEpoch 9/50\n - 0s - loss: 160893.8090 - val_loss: 112717.6320\nEpoch 10/50\n - 0s - loss: 155899.3087 - val_loss: 110439.8323\nEpoch 11/50\n - 0s - loss: 151062.8831 - val_loss: 108153.4971\nEpoch 12/50\n - 0s - loss: 146478.9977 - val_loss: 106360.9989\nEpoch 13/50\n - 0s - loss: 142011.7223 - val_loss: 103987.6687\nEpoch 14/50\n - 0s - loss: 137679.7070 - val_loss: 102306.4324\nEpoch 15/50\n - 0s - loss: 133804.3758 - val_loss: 100610.0978\nEpoch 16/50\n - 0s - loss: 129867.1760 - val_loss: 98350.6955\nEpoch 17/50\n - 1s - loss: 126145.8881 - val_loss: 96840.8156\nEpoch 18/50\n - 0s - loss: 122587.1984 - val_loss: 95067.4766\nEpoch 19/50\n - 1s - loss: 119137.7872 - val_loss: 93573.0354\nEpoch 20/50\n - 0s - loss: 115918.8822 - val_loss: 91914.2020\nEpoch 21/50\n - 0s - loss: 112766.4713 - val_loss: 90380.0157\nEpoch 22/50\n - 0s - loss: 109718.5631 - val_loss: 88854.7271\nEpoch 23/50\n - 0s - loss: 106835.0611 - val_loss: 87349.1871\nEpoch 24/50\n - 0s - loss: 104007.1263 - val_loss: 85917.4740\nEpoch 25/50\n - 0s - loss: 101364.9532 - val_loss: 84680.5382\nEpoch 26/50\n - 0s - loss: 98665.8702 - val_loss: 83224.1211\nEpoch 27/50\n - 0s - loss: 96142.0990 - val_loss: 81716.1279\nEpoch 28/50\n - 0s - loss: 93698.0572 - val_loss: 80547.5236\nEpoch 29/50\n - 0s - loss: 91422.9895 - val_loss: 79300.7062\nEpoch 30/50\n - 0s - loss: 89138.7052 - val_loss: 78028.2406\nEpoch 31/50\n - 0s - loss: 86841.1964 - val_loss: 76717.7982\nEpoch 32/50\n - 0s - loss: 84802.9085 - val_loss: 75430.7195\nEpoch 33/50\n - 0s - loss: 82642.7099 - val_loss: 74544.4232\nEpoch 34/50\n - 0s - loss: 80617.5035 - val_loss: 73267.4136\nEpoch 35/50\n - 0s - loss: 78672.9092 - val_loss: 72510.2780\nEpoch 36/50\n - 0s - loss: 76835.5968 - val_loss: 70998.9303\nEpoch 37/50\n - 0s - loss: 75023.9155 - val_loss: 70165.5521\nEpoch 38/50\n - 0s - loss: 73058.3231 - val_loss: 68911.6424\nEpoch 39/50\n - 0s - loss: 71320.2957 - val_loss: 67915.3466\nEpoch 40/50\n - 0s - loss: 69621.9236 - val_loss: 66905.9813\nEpoch 41/50\n - 0s - loss: 67902.5533 - val_loss: 66068.2095\nEpoch 42/50\n - 0s - loss: 66307.2344 - val_loss: 64956.7768\nEpoch 43/50\n - 0s - loss: 64701.9012 - val_loss: 63954.2469\nEpoch 44/50\n - 0s - loss: 63193.7752 - val_loss: 62892.6926\nEpoch 45/50\n - 0s - loss: 61676.3361 - val_loss: 62005.2374\nEpoch 46/50\n - 0s - loss: 60233.4775 - val_loss: 60979.3557\nEpoch 47/50\n - 0s - loss: 58920.2522 - val_loss: 60054.3674\nEpoch 48/50\n - 0s - loss: 57371.3868 - val_loss: 58969.1457\nEpoch 49/50\n - 0s - loss: 56094.1288 - val_loss: 58088.1740\nEpoch 50/50\n - 0s - loss: 54688.7394 - val_loss: 57172.0309\n"
                },
                {
                    "data": {
                        "text/plain": "<keras.callbacks.History at 0x7f5be828ed68>"
                    },
                    "execution_count": 17,
                    "metadata": {},
                    "output_type": "execute_result"
                }
            ],
            "source": "modelR.fit(predictors, target, validation_split=0.3, epochs=50, verbose=2)"
        },
        {
            "cell_type": "code",
            "execution_count": 35,
            "metadata": {},
            "outputs": [
                {
                    "name": "stdout",
                    "output_type": "stream",
                    "text": "1030/1030 [==============================] - 0s 141us/step\n1030/1030 [==============================] - 0s 155us/step\n1030/1030 [==============================] - 0s 177us/step\n1030/1030 [==============================] - 0s 135us/step\n1030/1030 [==============================] - 0s 156us/step\n1030/1030 [==============================] - 0s 175us/step\n1030/1030 [==============================] - 0s 174us/step\n1030/1030 [==============================] - 0s 179us/step\n1030/1030 [==============================] - 0s 175us/step\n1030/1030 [==============================] - 0s 163us/step\n1030/1030 [==============================] - 0s 168us/step\n1030/1030 [==============================] - 0s 158us/step\n1030/1030 [==============================] - 0s 158us/step\n1030/1030 [==============================] - 0s 160us/step\n1030/1030 [==============================] - 0s 168us/step\n1030/1030 [==============================] - 0s 155us/step\n1030/1030 [==============================] - 0s 154us/step\n1030/1030 [==============================] - 0s 160us/step\n1030/1030 [==============================] - 0s 184us/step\n1030/1030 [==============================] - 0s 192us/step\n1030/1030 [==============================] - 0s 169us/step\n1030/1030 [==============================] - 1s 527us/step\n1030/1030 [==============================] - 0s 179us/step\n1030/1030 [==============================] - 1s 742us/step\n1030/1030 [==============================] - 0s 149us/step\n1030/1030 [==============================] - 0s 201us/step\n1030/1030 [==============================] - 0s 178us/step\n1030/1030 [==============================] - 0s 154us/step\n1030/1030 [==============================] - 0s 176us/step\n1030/1030 [==============================] - 0s 192us/step\n1030/1030 [==============================] - 1s 538us/step\n1030/1030 [==============================] - 0s 154us/step\n1030/1030 [==============================] - 0s 167us/step\n1030/1030 [==============================] - 0s 186us/step\n1030/1030 [==============================] - 0s 157us/step\n1030/1030 [==============================] - 0s 154us/step\n1030/1030 [==============================] - 0s 171us/step\n1030/1030 [==============================] - 1s 603us/step\n1030/1030 [==============================] - 0s 157us/step\n1030/1030 [==============================] - 0s 180us/step\n1030/1030 [==============================] - 0s 186us/step\n1030/1030 [==============================] - 0s 169us/step\n1030/1030 [==============================] - 0s 173us/step\n1030/1030 [==============================] - 0s 196us/step\n1030/1030 [==============================] - 0s 168us/step\n1030/1030 [==============================] - 0s 206us/step\n1030/1030 [==============================] - 1s 725us/step\n1030/1030 [==============================] - 0s 160us/step\n1030/1030 [==============================] - 0s 188us/step\n1030/1030 [==============================] - 0s 203us/step\n"
                }
            ],
            "source": "a=0\nscoreset=[]\nwhile a<50:\n    modelR = regression_model()\n    modelR.fit(predictors, target, validation_split=0.3, epochs=50, verbose=0)\n    score = modelR.evaluate(predictors, target)\n    scoreset.append(score)\n    a+=1"
        },
        {
            "cell_type": "markdown",
            "metadata": {},
            "source": "## Mean and Std of mse of normal data"
        },
        {
            "cell_type": "code",
            "execution_count": 37,
            "metadata": {},
            "outputs": [
                {
                    "data": {
                        "text/plain": "455.8533856334501"
                    },
                    "execution_count": 37,
                    "metadata": {},
                    "output_type": "execute_result"
                }
            ],
            "source": "np.mean(scoreset, axis=0)"
        },
        {
            "cell_type": "code",
            "execution_count": 38,
            "metadata": {},
            "outputs": [
                {
                    "data": {
                        "text/plain": "379.21916340745463"
                    },
                    "execution_count": 38,
                    "metadata": {},
                    "output_type": "execute_result"
                }
            ],
            "source": "np.std(scoreset, axis=0)"
        },
        {
            "cell_type": "markdown",
            "metadata": {},
            "source": "## B. Using Normalized data"
        },
        {
            "cell_type": "code",
            "execution_count": 39,
            "metadata": {},
            "outputs": [],
            "source": "# define regression_norm model\ndef regression_norm_model():\n    # create model\n    model = Sequential()\n    model.add(Dense(10, activation='relu', input_shape=(n_cols_norm,)))\n    model.add(Dense(1))\n    \n    # compile model\n    model.compile(optimizer='adam', loss='mean_squared_error')\n    return model"
        },
        {
            "cell_type": "code",
            "execution_count": 47,
            "metadata": {},
            "outputs": [
                {
                    "name": "stdout",
                    "output_type": "stream",
                    "text": "1030/1030 [==============================] - 0s 202us/step\n1030/1030 [==============================] - 0s 221us/step\n1030/1030 [==============================] - 0s 216us/step\n1030/1030 [==============================] - 0s 242us/step\n1030/1030 [==============================] - 0s 186us/step\n1030/1030 [==============================] - 0s 235us/step\n1030/1030 [==============================] - 0s 273us/step\n1030/1030 [==============================] - 0s 230us/step\n1030/1030 [==============================] - 0s 226us/step\n1030/1030 [==============================] - 0s 209us/step\n1030/1030 [==============================] - 0s 211us/step\n1030/1030 [==============================] - 0s 193us/step\n1030/1030 [==============================] - 0s 228us/step\n1030/1030 [==============================] - 0s 226us/step\n1030/1030 [==============================] - 0s 221us/step\n1030/1030 [==============================] - 0s 208us/step\n1030/1030 [==============================] - 0s 243us/step\n1030/1030 [==============================] - 0s 216us/step\n1030/1030 [==============================] - 0s 253us/step\n1030/1030 [==============================] - 0s 193us/step\n1030/1030 [==============================] - 0s 194us/step\n1030/1030 [==============================] - 0s 210us/step\n1030/1030 [==============================] - 0s 222us/step\n1030/1030 [==============================] - 0s 208us/step\n1030/1030 [==============================] - 0s 207us/step\n1030/1030 [==============================] - 0s 220us/step\n1030/1030 [==============================] - 0s 225us/step\n1030/1030 [==============================] - 0s 384us/step\n1030/1030 [==============================] - 0s 232us/step\n1030/1030 [==============================] - 0s 252us/step\n1030/1030 [==============================] - 0s 216us/step\n1030/1030 [==============================] - 0s 241us/step\n1030/1030 [==============================] - 0s 228us/step\n1030/1030 [==============================] - 0s 214us/step\n1030/1030 [==============================] - 0s 379us/step\n1030/1030 [==============================] - 0s 206us/step\n1030/1030 [==============================] - 0s 249us/step\n1030/1030 [==============================] - 0s 231us/step\n1030/1030 [==============================] - 0s 281us/step\n1030/1030 [==============================] - 0s 233us/step\n1030/1030 [==============================] - 0s 221us/step\n1030/1030 [==============================] - 0s 239us/step\n1030/1030 [==============================] - 0s 272us/step\n1030/1030 [==============================] - 0s 194us/step\n1030/1030 [==============================] - 0s 241us/step\n1030/1030 [==============================] - 0s 242us/step\n1030/1030 [==============================] - 0s 243us/step\n1030/1030 [==============================] - 0s 208us/step\n1030/1030 [==============================] - 0s 204us/step\n1030/1030 [==============================] - 0s 241us/step\n"
                }
            ],
            "source": "a=0\nscoreset_norm=[]\nwhile a<50:\n    modelRn = regression_norm_model()\n    modelRn.fit(predictors_norm, target, validation_split=0.3, epochs=50, verbose=0)\n    score = modelRn.evaluate(predictors_norm, target)\n    scoreset_norm.append(score)\n    a+=1"
        },
        {
            "cell_type": "markdown",
            "metadata": {},
            "source": "### Mean and std"
        },
        {
            "cell_type": "code",
            "execution_count": 48,
            "metadata": {},
            "outputs": [
                {
                    "data": {
                        "text/plain": "381.83245288856284"
                    },
                    "execution_count": 48,
                    "metadata": {},
                    "output_type": "execute_result"
                }
            ],
            "source": "np.mean(scoreset_norm, axis=0)"
        },
        {
            "cell_type": "code",
            "execution_count": 49,
            "metadata": {},
            "outputs": [
                {
                    "data": {
                        "text/plain": "101.87322259834369"
                    },
                    "execution_count": 49,
                    "metadata": {},
                    "output_type": "execute_result"
                }
            ],
            "source": "np.std(scoreset_norm, axis=0)"
        },
        {
            "cell_type": "markdown",
            "metadata": {},
            "source": "all of them are smaller than non normalized things. "
        },
        {
            "cell_type": "markdown",
            "metadata": {},
            "source": "##  C. more epoch; 50 to 100"
        },
        {
            "cell_type": "code",
            "execution_count": 50,
            "metadata": {},
            "outputs": [
                {
                    "name": "stdout",
                    "output_type": "stream",
                    "text": "1030/1030 [==============================] - 0s 224us/step\n1030/1030 [==============================] - 0s 237us/step\n1030/1030 [==============================] - 0s 200us/step\n1030/1030 [==============================] - 0s 211us/step\n1030/1030 [==============================] - 0s 251us/step\n1030/1030 [==============================] - 0s 276us/step\n1030/1030 [==============================] - 0s 185us/step\n1030/1030 [==============================] - 0s 257us/step\n1030/1030 [==============================] - ETA:  - 0s 198us/step\n1030/1030 [==============================] - 0s 265us/step\n1030/1030 [==============================] - 0s 193us/step\n1030/1030 [==============================] - 0s 209us/step\n1030/1030 [==============================] - 0s 202us/step\n1030/1030 [==============================] - 0s 236us/step\n1030/1030 [==============================] - 0s 200us/step\n1030/1030 [==============================] - 0s 227us/step\n1030/1030 [==============================] - 0s 195us/step\n1030/1030 [==============================] - 0s 207us/step\n1030/1030 [==============================] - 0s 267us/step\n1030/1030 [==============================] - 0s 239us/step\n1030/1030 [==============================] - 0s 411us/step\n1030/1030 [==============================] - 0s 412us/step\n1030/1030 [==============================] - 0s 233us/step\n1030/1030 [==============================] - 0s 191us/step\n1030/1030 [==============================] - 0s 239us/step\n1030/1030 [==============================] - 0s 231us/step\n1030/1030 [==============================] - 0s 242us/step\n1030/1030 [==============================] - 0s 215us/step\n1030/1030 [==============================] - 0s 234us/step\n1030/1030 [==============================] - 0s 309us/step\n1030/1030 [==============================] - 0s 242us/step\n1030/1030 [==============================] - 0s 243us/step\n1030/1030 [==============================] - 0s 230us/step\n1030/1030 [==============================] - 0s 212us/step\n1030/1030 [==============================] - 0s 194us/step\n1030/1030 [==============================] - 0s 231us/step\n1030/1030 [==============================] - 0s 320us/step\n1030/1030 [==============================] - 0s 234us/step\n1030/1030 [==============================] - 0s 238us/step\n1030/1030 [==============================] - 0s 207us/step\n1030/1030 [==============================] - 0s 254us/step\n1030/1030 [==============================] - 0s 236us/step\n1030/1030 [==============================] - 0s 215us/step\n1030/1030 [==============================] - 0s 211us/step\n1030/1030 [==============================] - 1s 563us/step\n1030/1030 [==============================] - 0s 193us/step\n1030/1030 [==============================] - 0s 237us/step\n1030/1030 [==============================] - 0s 225us/step\n1030/1030 [==============================] - 0s 231us/step\n1030/1030 [==============================] - 0s 229us/step\n"
                }
            ],
            "source": "a=0\nscoreset_norm2=[]\nwhile a<50:\n    modelRn2 = regression_norm_model()\n    modelRn2.fit(predictors_norm, target, validation_split=0.3, epochs=100, verbose=0)\n    score = modelRn2.evaluate(predictors_norm, target)\n    scoreset_norm2.append(score)\n    a+=1"
        },
        {
            "cell_type": "code",
            "execution_count": 51,
            "metadata": {},
            "outputs": [
                {
                    "data": {
                        "text/plain": "178.816101504724"
                    },
                    "execution_count": 51,
                    "metadata": {},
                    "output_type": "execute_result"
                }
            ],
            "source": "np.mean(scoreset_norm2, axis=0)"
        },
        {
            "cell_type": "code",
            "execution_count": 52,
            "metadata": {},
            "outputs": [
                {
                    "data": {
                        "text/plain": "15.885861224829098"
                    },
                    "execution_count": 52,
                    "metadata": {},
                    "output_type": "execute_result"
                }
            ],
            "source": "np.std(scoreset_norm2, axis=0)"
        },
        {
            "cell_type": "markdown",
            "metadata": {},
            "source": "Less mean and std than B's"
        },
        {
            "cell_type": "markdown",
            "metadata": {},
            "source": "## D. more hidden layer; 1 to 3"
        },
        {
            "cell_type": "code",
            "execution_count": 53,
            "metadata": {},
            "outputs": [],
            "source": "def regression_norm_model2():\n    # create model\n    model = Sequential()\n    model.add(Dense(10, activation='relu', input_shape=(n_cols_norm,)))\n    model.add(Dense(10, activation='relu', input_shape=(n_cols_norm,)))\n    model.add(Dense(10, activation='relu', input_shape=(n_cols_norm,)))\n    model.add(Dense(1))\n    \n    # compile model\n    model.compile(optimizer='adam', loss='mean_squared_error')\n    return model"
        },
        {
            "cell_type": "code",
            "execution_count": 54,
            "metadata": {},
            "outputs": [
                {
                    "name": "stdout",
                    "output_type": "stream",
                    "text": "1030/1030 [==============================] - 0s 262us/step\n1030/1030 [==============================] - 0s 220us/step\n1030/1030 [==============================] - 0s 269us/step\n1030/1030 [==============================] - 0s 249us/step\n1030/1030 [==============================] - 0s 268us/step\n1030/1030 [==============================] - 0s 269us/step\n1030/1030 [==============================] - 1s 822us/step\n1030/1030 [==============================] - 0s 221us/step\n1030/1030 [==============================] - 0s 257us/step\n1030/1030 [==============================] - 0s 211us/step\n1030/1030 [==============================] - 0s 251us/step\n1030/1030 [==============================] - 0s 264us/step\n1030/1030 [==============================] - 0s 190us/step\n1030/1030 [==============================] - 0s 214us/step\n1030/1030 [==============================] - 0s 255us/step\n1030/1030 [==============================] - 0s 285us/step\n1030/1030 [==============================] - 0s 210us/step\n1030/1030 [==============================] - 0s 250us/step\n1030/1030 [==============================] - 0s 214us/step\n1030/1030 [==============================] - 0s 213us/step\n1030/1030 [==============================] - 0s 212us/step\n1030/1030 [==============================] - 0s 258us/step\n1030/1030 [==============================] - 0s 223us/step\n1030/1030 [==============================] - 0s 228us/step\n1030/1030 [==============================] - 0s 226us/step\n1030/1030 [==============================] - 0s 213us/step\n1030/1030 [==============================] - 0s 209us/step\n1030/1030 [==============================] - 0s 366us/step\n1030/1030 [==============================] - 0s 225us/step\n1030/1030 [==============================] - 0s 217us/step\n1030/1030 [==============================] - 0s 215us/step\n1030/1030 [==============================] - 0s 357us/step\n1030/1030 [==============================] - 0s 226us/step\n1030/1030 [==============================] - 0s 213us/step\n1030/1030 [==============================] - 0s 239us/step\n1030/1030 [==============================] - 0s 218us/step\n1030/1030 [==============================] - 0s 200us/step\n1030/1030 [==============================] - 0s 213us/step\n1030/1030 [==============================] - 0s 239us/step\n1030/1030 [==============================] - 0s 206us/step\n1030/1030 [==============================] - 0s 248us/step\n1030/1030 [==============================] - 0s 238us/step\n1030/1030 [==============================] - 0s 235us/step\n1030/1030 [==============================] - 0s 259us/step\n1030/1030 [==============================] - 1s 564us/step\n1030/1030 [==============================] - 0s 289us/step\n1030/1030 [==============================] - 0s 245us/step\n1030/1030 [==============================] - 0s 225us/step\n1030/1030 [==============================] - 0s 260us/step\n1030/1030 [==============================] - 0s 309us/step\n"
                }
            ],
            "source": "a=0\nscoreset_norm3=[]\nwhile a<50:\n    modelRn3 = regression_norm_model2()\n    modelR.fit(predictors_norm, target, validation_split=0.3, epochs=50, verbose=0)\n    score = modelR.evaluate(predictors_norm, target)\n    scoreset_norm3.append(score)\n    a+=1"
        },
        {
            "cell_type": "code",
            "execution_count": 55,
            "metadata": {},
            "outputs": [
                {
                    "data": {
                        "text/plain": "70.28848352139667"
                    },
                    "execution_count": 55,
                    "metadata": {},
                    "output_type": "execute_result"
                }
            ],
            "source": "np.mean(scoreset_norm3, axis=0)"
        },
        {
            "cell_type": "code",
            "execution_count": 56,
            "metadata": {},
            "outputs": [
                {
                    "data": {
                        "text/plain": "20.90357418045991"
                    },
                    "execution_count": 56,
                    "metadata": {},
                    "output_type": "execute_result"
                }
            ],
            "source": "np.std(scoreset_norm3, axis=0)"
        },
        {
            "cell_type": "markdown",
            "metadata": {},
            "source": "Much less mean and std than B's"
        }
    ],
    "metadata": {
        "kernelspec": {
            "display_name": "Python 3.6",
            "language": "python",
            "name": "python3"
        },
        "language_info": {
            "codemirror_mode": {
                "name": "ipython",
                "version": 3
            },
            "file_extension": ".py",
            "mimetype": "text/x-python",
            "name": "python",
            "nbconvert_exporter": "python",
            "pygments_lexer": "ipython3",
            "version": "3.6.9"
        }
    },
    "nbformat": 4,
    "nbformat_minor": 1
}